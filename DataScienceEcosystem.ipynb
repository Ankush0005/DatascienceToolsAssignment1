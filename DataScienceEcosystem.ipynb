{
 "cells": [
  {
   "cell_type": "markdown",
   "id": "888810ec",
   "metadata": {},
   "source": [
    "# Data Science Tools and Ecosystem"
   ]
  },
  {
   "cell_type": "markdown",
   "id": "9f56d3e9",
   "metadata": {},
   "source": [
    "## Author\n",
    "Ankush\n",
    "\n"
   ]
  },
  {
   "cell_type": "markdown",
   "id": "a4440ae0",
   "metadata": {},
   "source": [
    "### In this notebook,Data Science Tools and Ecosystem are summarized."
   ]
  },
  {
   "cell_type": "markdown",
   "id": "8d23c9a9",
   "metadata": {},
   "source": [
    "##### **Objectives**: List of popular languages for data science.\n",
    "* SQL\n",
    "* Python\n",
    "* R\n",
    "* Scala\n",
    "* Julia\n",
    "* C++ \n",
    "* JAVA"
   ]
  },
  {
   "cell_type": "markdown",
   "id": "36315a7f",
   "metadata": {},
   "source": [
    "#### Some of the popular languages that Data Scientists use are: \n",
    "1. SQL\n",
    "2. Python\n",
    "3. R"
   ]
  },
  {
   "cell_type": "markdown",
   "id": "75dd653d",
   "metadata": {},
   "source": [
    "##### Some of the commonly used libraries used for Data Scientist include:\n",
    "1. Panda\n",
    "2. Numpy\n",
    "3. Matplotlib\n"
   ]
  },
  {
   "cell_type": "markdown",
   "id": "3a62f3a9",
   "metadata": {},
   "source": [
    "|Data Science Tools|\n",
    "|:---------|\n",
    "|JUPYTER|\n",
    "|R Studio|\n",
    "|Apache Sparks\n",
    "\n",
    "\n"
   ]
  },
  {
   "cell_type": "markdown",
   "id": "c7d392e1",
   "metadata": {},
   "source": [
    "### **Below is the few examples of evaluating arithmetic expression in Python**\n"
   ]
  },
  {
   "cell_type": "code",
   "execution_count": 2,
   "id": "603e40af",
   "metadata": {},
   "outputs": [
    {
     "data": {
      "text/plain": [
       "17"
      ]
     },
     "execution_count": 2,
     "metadata": {},
     "output_type": "execute_result"
    }
   ],
   "source": [
    "# This is a simple arithmetic expression to multiply then add integer\n",
    "\n",
    "(3*4)+5"
   ]
  },
  {
   "cell_type": "code",
   "execution_count": 3,
   "id": "3f566904",
   "metadata": {},
   "outputs": [
    {
     "data": {
      "text/plain": [
       "3.3333333333333335"
      ]
     },
     "execution_count": 3,
     "metadata": {},
     "output_type": "execute_result"
    }
   ],
   "source": [
    "# This will convert 200 minutes to hours by dividing by 60\n",
    "\n",
    "200/60"
   ]
  },
  {
   "cell_type": "code",
   "execution_count": null,
   "id": "d05f6bf0",
   "metadata": {},
   "outputs": [],
   "source": []
  }
 ],
 "metadata": {
  "kernelspec": {
   "display_name": "Python 3 (ipykernel)",
   "language": "python",
   "name": "python3"
  },
  "language_info": {
   "codemirror_mode": {
    "name": "ipython",
    "version": 3
   },
   "file_extension": ".py",
   "mimetype": "text/x-python",
   "name": "python",
   "nbconvert_exporter": "python",
   "pygments_lexer": "ipython3",
   "version": "3.10.9"
  }
 },
 "nbformat": 4,
 "nbformat_minor": 5
}
